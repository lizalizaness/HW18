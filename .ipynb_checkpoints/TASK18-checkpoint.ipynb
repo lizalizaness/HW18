{
 "cells": [
  {
   "cell_type": "code",
   "execution_count": 1,
   "id": "51d38216-bac2-408e-9f76-cd9a039f8a33",
   "metadata": {
    "tags": []
   },
   "outputs": [
    {
     "name": "stdout",
     "output_type": "stream",
     "text": [
      "POSTGRESQL_USER=reader\n",
      "POSTGRESQL_PASSWORD=Miba2021\n"
     ]
    }
   ],
   "source": [
    "import os\n",
    "import json\n",
    "import psycopg2\n",
    "from psycopg2.extras import DictCursor\n",
    "POSTGRESQL_HOST = '10.129.0.25'\n",
    "\n",
    "!env | grep POST\n",
    "conn = psycopg2.connect(\n",
    "    dbname='demo', \n",
    "    user=os.environ['POSTGRESQL_USER'],\n",
    "    password=os.environ['POSTGRESQL_PASSWORD'], \n",
    "    host=POSTGRESQL_HOST\n",
    ")\n",
    "cur = conn.cursor()"
   ]
  },
  {
   "cell_type": "code",
   "execution_count": 2,
   "id": "a4fe998b-4dcf-435f-b822-534510aa51d0",
   "metadata": {
    "tags": []
   },
   "outputs": [
    {
     "name": "stdout",
     "output_type": "stream",
     "text": [
      "Requirement already satisfied: ipython-sql in /opt/conda/lib/python3.10/site-packages (0.5.0)\n",
      "Requirement already satisfied: ipython in /opt/conda/lib/python3.10/site-packages (from ipython-sql) (8.11.0)\n",
      "Requirement already satisfied: ipython-genutils in /opt/conda/lib/python3.10/site-packages (from ipython-sql) (0.2.0)\n",
      "Requirement already satisfied: sqlalchemy>=2.0 in /opt/conda/lib/python3.10/site-packages (from ipython-sql) (2.0.7)\n",
      "Requirement already satisfied: sqlparse in /opt/conda/lib/python3.10/site-packages (from ipython-sql) (0.4.4)\n",
      "Requirement already satisfied: six in /opt/conda/lib/python3.10/site-packages (from ipython-sql) (1.16.0)\n",
      "Requirement already satisfied: prettytable in /opt/conda/lib/python3.10/site-packages (from ipython-sql) (3.7.0)\n",
      "Requirement already satisfied: typing-extensions>=4.2.0 in /opt/conda/lib/python3.10/site-packages (from sqlalchemy>=2.0->ipython-sql) (4.5.0)\n",
      "Requirement already satisfied: greenlet!=0.4.17 in /opt/conda/lib/python3.10/site-packages (from sqlalchemy>=2.0->ipython-sql) (2.0.2)\n",
      "Requirement already satisfied: jedi>=0.16 in /opt/conda/lib/python3.10/site-packages (from ipython->ipython-sql) (0.18.2)\n",
      "Requirement already satisfied: pexpect>4.3 in /opt/conda/lib/python3.10/site-packages (from ipython->ipython-sql) (4.8.0)\n",
      "Requirement already satisfied: pygments>=2.4.0 in /opt/conda/lib/python3.10/site-packages (from ipython->ipython-sql) (2.14.0)\n",
      "Requirement already satisfied: prompt-toolkit!=3.0.37,<3.1.0,>=3.0.30 in /opt/conda/lib/python3.10/site-packages (from ipython->ipython-sql) (3.0.38)\n",
      "Requirement already satisfied: traitlets>=5 in /opt/conda/lib/python3.10/site-packages (from ipython->ipython-sql) (5.9.0)\n",
      "Requirement already satisfied: matplotlib-inline in /opt/conda/lib/python3.10/site-packages (from ipython->ipython-sql) (0.1.6)\n",
      "Requirement already satisfied: stack-data in /opt/conda/lib/python3.10/site-packages (from ipython->ipython-sql) (0.6.2)\n",
      "Requirement already satisfied: backcall in /opt/conda/lib/python3.10/site-packages (from ipython->ipython-sql) (0.2.0)\n",
      "Requirement already satisfied: pickleshare in /opt/conda/lib/python3.10/site-packages (from ipython->ipython-sql) (0.7.5)\n",
      "Requirement already satisfied: decorator in /opt/conda/lib/python3.10/site-packages (from ipython->ipython-sql) (5.1.1)\n",
      "Requirement already satisfied: wcwidth in /opt/conda/lib/python3.10/site-packages (from prettytable->ipython-sql) (0.2.6)\n",
      "Requirement already satisfied: parso<0.9.0,>=0.8.0 in /opt/conda/lib/python3.10/site-packages (from jedi>=0.16->ipython->ipython-sql) (0.8.3)\n",
      "Requirement already satisfied: ptyprocess>=0.5 in /opt/conda/lib/python3.10/site-packages (from pexpect>4.3->ipython->ipython-sql) (0.7.0)\n",
      "Requirement already satisfied: pure-eval in /opt/conda/lib/python3.10/site-packages (from stack-data->ipython->ipython-sql) (0.2.2)\n",
      "Requirement already satisfied: asttokens>=2.1.0 in /opt/conda/lib/python3.10/site-packages (from stack-data->ipython->ipython-sql) (2.2.1)\n",
      "Requirement already satisfied: executing>=1.2.0 in /opt/conda/lib/python3.10/site-packages (from stack-data->ipython->ipython-sql) (1.2.0)\n",
      "\u001b[33mWARNING: There was an error checking the latest version of pip.\u001b[0m\u001b[33m\n",
      "\u001b[0m"
     ]
    }
   ],
   "source": [
    "!pip install ipython-sql\n",
    "%load_ext sql\n",
    "CONNECT_DATA = 'postgresql://{}:{}@{}/{}'.format(\n",
    "    os.environ['POSTGRESQL_USER'],\n",
    "    os.environ['POSTGRESQL_PASSWORD'],\n",
    "    POSTGRESQL_HOST,\n",
    "    'demo'\n",
    ")"
   ]
  },
  {
   "cell_type": "code",
   "execution_count": 3,
   "id": "46001661-4cbb-4c4b-bdaf-f7588ab0972e",
   "metadata": {
    "tags": []
   },
   "outputs": [],
   "source": [
    "## Task 1a"
   ]
  },
  {
   "cell_type": "code",
   "execution_count": 4,
   "id": "b2c529fe-c611-4796-8507-5fc18a7ed995",
   "metadata": {
    "tags": []
   },
   "outputs": [
    {
     "name": "stdout",
     "output_type": "stream",
     "text": [
      "4 rows affected.\n"
     ]
    },
    {
     "data": {
      "text/html": [
       "<table>\n",
       "    <thead>\n",
       "        <tr>\n",
       "            <th>passenger_name</th>\n",
       "            <th>departure_airport</th>\n",
       "            <th>arrival_airport</th>\n",
       "        </tr>\n",
       "    </thead>\n",
       "    <tbody>\n",
       "        <tr>\n",
       "            <td>ALEKSEY GERASIMOV</td>\n",
       "            <td>AAQ</td>\n",
       "            <td>EGO</td>\n",
       "        </tr>\n",
       "        <tr>\n",
       "            <td>ALEKSEY GERASIMOV</td>\n",
       "            <td>DME</td>\n",
       "            <td>EGO</td>\n",
       "        </tr>\n",
       "        <tr>\n",
       "            <td>ALEKSEY GERASIMOV</td>\n",
       "            <td>EGO</td>\n",
       "            <td>AAQ</td>\n",
       "        </tr>\n",
       "        <tr>\n",
       "            <td>ALEKSEY GERASIMOV</td>\n",
       "            <td>EGO</td>\n",
       "            <td>DME</td>\n",
       "        </tr>\n",
       "    </tbody>\n",
       "</table>"
      ],
      "text/plain": [
       "[('ALEKSEY GERASIMOV', 'AAQ', 'EGO'),\n",
       " ('ALEKSEY GERASIMOV', 'DME', 'EGO'),\n",
       " ('ALEKSEY GERASIMOV', 'EGO', 'AAQ'),\n",
       " ('ALEKSEY GERASIMOV', 'EGO', 'DME')]"
      ]
     },
     "execution_count": 4,
     "metadata": {},
     "output_type": "execute_result"
    }
   ],
   "source": [
    "%%sql $CONNECT_DATA\n",
    "SELECT DISTINCT \n",
    "    (SELECT passenger_name FROM tickets WHERE ticket_no = '0005432312164') AS passenger_name,\n",
    "    (SELECT departure_airport FROM flights WHERE flight_id = tf.flight_id) AS departure_airport,\n",
    "    (SELECT arrival_airport FROM flights WHERE flight_id = tf.flight_id) AS arrival_airport\n",
    "FROM ticket_flights AS tf\n",
    "WHERE tf.ticket_no = '0005432312164'"
   ]
  },
  {
   "cell_type": "code",
   "execution_count": 5,
   "id": "c9e42e25-9afc-44e3-9f29-6b2d7098dade",
   "metadata": {},
   "outputs": [],
   "source": [
    "## Task 1b"
   ]
  },
  {
   "cell_type": "code",
   "execution_count": 6,
   "id": "73238bfb-d48d-4519-807a-5f6dcf43309f",
   "metadata": {
    "tags": []
   },
   "outputs": [
    {
     "name": "stdout",
     "output_type": "stream",
     "text": [
      "1 rows affected.\n",
      "4 rows affected.\n"
     ]
    },
    {
     "data": {
      "text/html": [
       "<table>\n",
       "    <thead>\n",
       "        <tr>\n",
       "            <th>departure_airport</th>\n",
       "            <th>arrival_airport</th>\n",
       "        </tr>\n",
       "    </thead>\n",
       "    <tbody>\n",
       "        <tr>\n",
       "            <td>DME</td>\n",
       "            <td>EGO</td>\n",
       "        </tr>\n",
       "        <tr>\n",
       "            <td>AAQ</td>\n",
       "            <td>EGO</td>\n",
       "        </tr>\n",
       "        <tr>\n",
       "            <td>EGO</td>\n",
       "            <td>DME</td>\n",
       "        </tr>\n",
       "        <tr>\n",
       "            <td>EGO</td>\n",
       "            <td>AAQ</td>\n",
       "        </tr>\n",
       "    </tbody>\n",
       "</table>"
      ],
      "text/plain": [
       "[('DME', 'EGO'), ('AAQ', 'EGO'), ('EGO', 'DME'), ('EGO', 'AAQ')]"
      ]
     },
     "execution_count": 6,
     "metadata": {},
     "output_type": "execute_result"
    }
   ],
   "source": [
    "%%sql $CONNECT_DATA\n",
    "  SELECT passenger_name\n",
    "FROM tickets\n",
    "WHERE ticket_no = '0005432312164';\n",
    "SELECT f.departure_airport, f.arrival_airport\n",
    "FROM flights f\n",
    "WHERE f.flight_id IN (\n",
    "    SELECT flight_id\n",
    "    FROM ticket_flights tf\n",
    "    WHERE tf.ticket_no = '0005432312164')"
   ]
  },
  {
   "cell_type": "code",
   "execution_count": 7,
   "id": "56e85380-14ea-4828-a048-2780fd83aae5",
   "metadata": {},
   "outputs": [],
   "source": [
    "#Task 1c"
   ]
  },
  {
   "cell_type": "code",
   "execution_count": 8,
   "id": "2843316e-58d5-4d5b-ac0c-6b16c0de17b6",
   "metadata": {
    "tags": []
   },
   "outputs": [
    {
     "name": "stdout",
     "output_type": "stream",
     "text": [
      "4 rows affected.\n"
     ]
    },
    {
     "data": {
      "text/html": [
       "<table>\n",
       "    <thead>\n",
       "        <tr>\n",
       "            <th>passenger_name</th>\n",
       "            <th>departure_airport</th>\n",
       "            <th>arrival_airport</th>\n",
       "        </tr>\n",
       "    </thead>\n",
       "    <tbody>\n",
       "        <tr>\n",
       "            <td>ALEKSEY GERASIMOV</td>\n",
       "            <td>AAQ</td>\n",
       "            <td>EGO</td>\n",
       "        </tr>\n",
       "        <tr>\n",
       "            <td>ALEKSEY GERASIMOV</td>\n",
       "            <td>DME</td>\n",
       "            <td>EGO</td>\n",
       "        </tr>\n",
       "        <tr>\n",
       "            <td>ALEKSEY GERASIMOV</td>\n",
       "            <td>EGO</td>\n",
       "            <td>AAQ</td>\n",
       "        </tr>\n",
       "        <tr>\n",
       "            <td>ALEKSEY GERASIMOV</td>\n",
       "            <td>EGO</td>\n",
       "            <td>DME</td>\n",
       "        </tr>\n",
       "    </tbody>\n",
       "</table>"
      ],
      "text/plain": [
       "[('ALEKSEY GERASIMOV', 'AAQ', 'EGO'),\n",
       " ('ALEKSEY GERASIMOV', 'DME', 'EGO'),\n",
       " ('ALEKSEY GERASIMOV', 'EGO', 'AAQ'),\n",
       " ('ALEKSEY GERASIMOV', 'EGO', 'DME')]"
      ]
     },
     "execution_count": 8,
     "metadata": {},
     "output_type": "execute_result"
    }
   ],
   "source": [
    "%%sql $CONNECT_DATA\n",
    "SELECT DISTINCT \n",
    "    t.passenger_name, \n",
    "    f.departure_airport, \n",
    "    f.arrival_airport\n",
    "FROM tickets t\n",
    "JOIN ticket_flights tf ON t.ticket_no = tf.ticket_no\n",
    "JOIN flights f ON tf.flight_id = f.flight_id\n",
    "WHERE t.ticket_no = '0005432312164'"
   ]
  },
  {
   "cell_type": "code",
   "execution_count": 9,
   "id": "48650088-1cad-457a-8291-f8cd85d85985",
   "metadata": {},
   "outputs": [],
   "source": [
    "#Task 2"
   ]
  },
  {
   "cell_type": "code",
   "execution_count": 10,
   "id": "817eae39-1d56-48d4-88a4-2376a957273d",
   "metadata": {
    "tags": []
   },
   "outputs": [
    {
     "name": "stdout",
     "output_type": "stream",
     "text": [
      "7 rows affected.\n"
     ]
    },
    {
     "data": {
      "text/html": [
       "<table>\n",
       "    <thead>\n",
       "        <tr>\n",
       "            <th>departure_city</th>\n",
       "            <th>arrival_city</th>\n",
       "        </tr>\n",
       "    </thead>\n",
       "    <tbody>\n",
       "        <tr>\n",
       "            <td>{&#x27;en&#x27;: &#x27;Khanty-Mansiysk&#x27;, &#x27;ru&#x27;: &#x27;Ханты-Мансийск&#x27;}</td>\n",
       "            <td>{&#x27;en&#x27;: &#x27;Moscow&#x27;, &#x27;ru&#x27;: &#x27;Москва&#x27;}</td>\n",
       "        </tr>\n",
       "        <tr>\n",
       "            <td>{&#x27;en&#x27;: &#x27;Magnetiogorsk&#x27;, &#x27;ru&#x27;: &#x27;Магнитогорск&#x27;}</td>\n",
       "            <td>{&#x27;en&#x27;: &#x27;Yekaterinburg&#x27;, &#x27;ru&#x27;: &#x27;Екатеринбург&#x27;}</td>\n",
       "        </tr>\n",
       "        <tr>\n",
       "            <td>{&#x27;en&#x27;: &#x27;Moscow&#x27;, &#x27;ru&#x27;: &#x27;Москва&#x27;}</td>\n",
       "            <td>{&#x27;en&#x27;: &#x27;Khanty-Mansiysk&#x27;, &#x27;ru&#x27;: &#x27;Ханты-Мансийск&#x27;}</td>\n",
       "        </tr>\n",
       "        <tr>\n",
       "            <td>{&#x27;en&#x27;: &#x27;Moscow&#x27;, &#x27;ru&#x27;: &#x27;Москва&#x27;}</td>\n",
       "            <td>{&#x27;en&#x27;: &#x27;Yekaterinburg&#x27;, &#x27;ru&#x27;: &#x27;Екатеринбург&#x27;}</td>\n",
       "        </tr>\n",
       "        <tr>\n",
       "            <td>{&#x27;en&#x27;: &#x27;Moscow&#x27;, &#x27;ru&#x27;: &#x27;Москва&#x27;}</td>\n",
       "            <td>{&#x27;en&#x27;: &#x27;Yuzhno-Sakhalinsk&#x27;, &#x27;ru&#x27;: &#x27;Южно-Сахалинск&#x27;}</td>\n",
       "        </tr>\n",
       "        <tr>\n",
       "            <td>{&#x27;en&#x27;: &#x27;Yekaterinburg&#x27;, &#x27;ru&#x27;: &#x27;Екатеринбург&#x27;}</td>\n",
       "            <td>{&#x27;en&#x27;: &#x27;Magnetiogorsk&#x27;, &#x27;ru&#x27;: &#x27;Магнитогорск&#x27;}</td>\n",
       "        </tr>\n",
       "        <tr>\n",
       "            <td>{&#x27;en&#x27;: &#x27;Yekaterinburg&#x27;, &#x27;ru&#x27;: &#x27;Екатеринбург&#x27;}</td>\n",
       "            <td>{&#x27;en&#x27;: &#x27;Moscow&#x27;, &#x27;ru&#x27;: &#x27;Москва&#x27;}</td>\n",
       "        </tr>\n",
       "    </tbody>\n",
       "</table>"
      ],
      "text/plain": [
       "[({'en': 'Khanty-Mansiysk', 'ru': 'Ханты-Мансийск'}, {'en': 'Moscow', 'ru': 'Москва'}),\n",
       " ({'en': 'Magnetiogorsk', 'ru': 'Магнитогорск'}, {'en': 'Yekaterinburg', 'ru': 'Екатеринбург'}),\n",
       " ({'en': 'Moscow', 'ru': 'Москва'}, {'en': 'Khanty-Mansiysk', 'ru': 'Ханты-Мансийск'}),\n",
       " ({'en': 'Moscow', 'ru': 'Москва'}, {'en': 'Yekaterinburg', 'ru': 'Екатеринбург'}),\n",
       " ({'en': 'Moscow', 'ru': 'Москва'}, {'en': 'Yuzhno-Sakhalinsk', 'ru': 'Южно-Сахалинск'}),\n",
       " ({'en': 'Yekaterinburg', 'ru': 'Екатеринбург'}, {'en': 'Magnetiogorsk', 'ru': 'Магнитогорск'}),\n",
       " ({'en': 'Yekaterinburg', 'ru': 'Екатеринбург'}, {'en': 'Moscow', 'ru': 'Москва'})]"
      ]
     },
     "execution_count": 10,
     "metadata": {},
     "output_type": "execute_result"
    }
   ],
   "source": [
    "%%sql $CONNECT_DATA\n",
    " SELECT DISTINCT \n",
    "    ad1.city AS departure_city, \n",
    "    ad2.city AS arrival_city\n",
    "FROM tickets t\n",
    "JOIN ticket_flights tf ON t.ticket_no = tf.ticket_no\n",
    "JOIN flights f ON tf.flight_id = f.flight_id\n",
    "JOIN airports_data ad1 ON f.departure_airport = ad1.airport_code\n",
    "JOIN airports_data ad2 ON f.arrival_airport = ad2.airport_code\n",
    "WHERE t.passenger_name = 'ELLA DMITRIEVA'\n",
    "    "
   ]
  },
  {
   "cell_type": "code",
   "execution_count": 11,
   "id": "b3f8d5dd-cb24-4f09-abc0-65c7699c0499",
   "metadata": {},
   "outputs": [],
   "source": [
    "#Task 3"
   ]
  },
  {
   "cell_type": "code",
   "execution_count": 12,
   "id": "3609e9ac-2ccb-4ad8-af38-cae01e868d45",
   "metadata": {
    "tags": []
   },
   "outputs": [
    {
     "name": "stdout",
     "output_type": "stream",
     "text": [
      "9 rows affected.\n"
     ]
    },
    {
     "data": {
      "text/html": [
       "<table>\n",
       "    <thead>\n",
       "        <tr>\n",
       "            <th>aircraft_code</th>\n",
       "            <th>total_seats</th>\n",
       "        </tr>\n",
       "    </thead>\n",
       "    <tbody>\n",
       "        <tr>\n",
       "            <td>773</td>\n",
       "            <td>402</td>\n",
       "        </tr>\n",
       "        <tr>\n",
       "            <td>763</td>\n",
       "            <td>222</td>\n",
       "        </tr>\n",
       "        <tr>\n",
       "            <td>321</td>\n",
       "            <td>170</td>\n",
       "        </tr>\n",
       "        <tr>\n",
       "            <td>320</td>\n",
       "            <td>140</td>\n",
       "        </tr>\n",
       "        <tr>\n",
       "            <td>733</td>\n",
       "            <td>130</td>\n",
       "        </tr>\n",
       "        <tr>\n",
       "            <td>319</td>\n",
       "            <td>116</td>\n",
       "        </tr>\n",
       "        <tr>\n",
       "            <td>SU9</td>\n",
       "            <td>97</td>\n",
       "        </tr>\n",
       "        <tr>\n",
       "            <td>CR2</td>\n",
       "            <td>50</td>\n",
       "        </tr>\n",
       "        <tr>\n",
       "            <td>CN1</td>\n",
       "            <td>12</td>\n",
       "        </tr>\n",
       "    </tbody>\n",
       "</table>"
      ],
      "text/plain": [
       "[('773', 402),\n",
       " ('763', 222),\n",
       " ('321', 170),\n",
       " ('320', 140),\n",
       " ('733', 130),\n",
       " ('319', 116),\n",
       " ('SU9', 97),\n",
       " ('CR2', 50),\n",
       " ('CN1', 12)]"
      ]
     },
     "execution_count": 12,
     "metadata": {},
     "output_type": "execute_result"
    }
   ],
   "source": [
    "%%sql $CONNECT_DATA\n",
    "   SELECT aircrafts_data.aircraft_code, COUNT(seat_no) AS total_seats\n",
    "FROM seats\n",
    "JOIN aircrafts_data USING (aircraft_code)\n",
    "GROUP BY aircrafts_data.aircraft_code\n",
    "ORDER BY total_seats DESC"
   ]
  },
  {
   "cell_type": "code",
   "execution_count": null,
   "id": "358a635f-2fe0-4706-a826-268604798e3f",
   "metadata": {},
   "outputs": [],
   "source": []
  },
  {
   "cell_type": "code",
   "execution_count": null,
   "id": "bc849b29-bb72-4cce-862a-814ff1a67999",
   "metadata": {},
   "outputs": [],
   "source": []
  }
 ],
 "metadata": {
  "kernelspec": {
   "display_name": "Python 3 (ipykernel)",
   "language": "python",
   "name": "python3"
  },
  "language_info": {
   "codemirror_mode": {
    "name": "ipython",
    "version": 3
   },
   "file_extension": ".py",
   "mimetype": "text/x-python",
   "name": "python",
   "nbconvert_exporter": "python",
   "pygments_lexer": "ipython3",
   "version": "3.10.9"
  }
 },
 "nbformat": 4,
 "nbformat_minor": 5
}
